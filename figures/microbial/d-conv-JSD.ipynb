{
 "cells": [
  {
   "cell_type": "code",
   "execution_count": 1,
   "metadata": {},
   "outputs": [],
   "source": [
    "import pandas as pd\n",
    "import plotly.express as px\n",
    "import numpy as np"
   ]
  },
  {
   "cell_type": "code",
   "execution_count": 2,
   "metadata": {},
   "outputs": [],
   "source": [
    "data = pd.read_csv(\"/Users/katherine/repos/results/aim_3/microbial/z-d-conv-JSD.tsv\", sep=\"\\t\")"
   ]
  },
  {
   "cell_type": "code",
   "execution_count": 7,
   "metadata": {},
   "outputs": [],
   "source": [
    "fig = px.scatter(data, x= \"d-convergence\", y=\"ingroup_jsd\", hover_data=[\"source\"], opacity=0.2)\n",
    "fig.update_layout( height=400, width=700, showlegend=False)\n",
    "fig.update_layout(xaxis_title=\"$\\\\Large \\hat{\\delta}_{\\\\nabla}$\", yaxis_title=\"Ingroup JSD\",)\n",
    "fig.update_yaxes(\n",
    "        title_font = {\"size\": 15},)\n",
    "fig.write_image(\"/Users/katherine/repos/Thesis-Draft-1-KC/figures/plots/microbial/d-conv-JSD.pdf\")\n"
   ]
  },
  {
   "cell_type": "code",
   "execution_count": null,
   "metadata": {},
   "outputs": [],
   "source": []
  }
 ],
 "metadata": {
  "kernelspec": {
   "display_name": "Python 3",
   "language": "python",
   "name": "python3"
  },
  "language_info": {
   "codemirror_mode": {
    "name": "ipython",
    "version": 3
   },
   "file_extension": ".py",
   "mimetype": "text/x-python",
   "name": "python",
   "nbconvert_exporter": "python",
   "pygments_lexer": "ipython3",
   "version": "3.8.5"
  }
 },
 "nbformat": 4,
 "nbformat_minor": 4
}
