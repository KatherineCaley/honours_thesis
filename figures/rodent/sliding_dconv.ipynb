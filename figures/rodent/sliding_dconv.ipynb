{
 "cells": [
  {
   "cell_type": "code",
   "execution_count": 1,
   "metadata": {},
   "outputs": [],
   "source": [
    "from cogent3 import load_aligned_seqs\n",
    "from cogent3.draw.drawable import Drawable, AnnotatedDrawable\n",
    "from cogent3.util.union_dict import UnionDict\n",
    "from kath_analysis.fxy.transfer_annotations import (\n",
    "    load_annotated,\n",
    "    annotate_aligned,\n",
    ")\n",
    "\n",
    "import pandas as pd"
   ]
  },
  {
   "cell_type": "code",
   "execution_count": 2,
   "metadata": {},
   "outputs": [],
   "source": [
    "def wrapper(names, name):\n",
    "    name_index = names.index(name)\n",
    "    def foo(data):\n",
    "        return data[name_index] != \"-\"\n",
    "    return foo \n"
   ]
  },
  {
   "cell_type": "code",
   "execution_count": 3,
   "metadata": {},
   "outputs": [],
   "source": [
    "\n",
    "# loading an annotated sequence which was saved as an alignment\n",
    "s = load_aligned_seqs(\"/Users/katherine/repos/data/fxy/introns/aligned/annotated/intron3.json\")\n",
    "\n",
    "foo = wrapper(s.names, \"Mmus\")\n",
    "mus_degapped_aln = s.take_positions_if(foo)\n",
    "\n",
    "mus_degapped_aln.write(\"introns/3-degapped.fa\")\n",
    "\n",
    "intron_3 = pd.read_csv('~/repos/results/aim_3/rodent/mmu/without_gaps/intron_3/delta-conv-nogaps.tsv', sep=\"\\t\")"
   ]
  },
  {
   "cell_type": "code",
   "execution_count": 4,
   "metadata": {},
   "outputs": [],
   "source": [
    "anno_seqs = load_annotated(\n",
    "[ \"~/repos/data/fxy/Mmus/annotated_simp_seq.json\"])\n",
    "\n",
    "anno_aln = annotate_aligned(\n",
    "    \"introns/3-degapped.fa\",\n",
    "    anno_seqs,\n",
    ")\n",
    "anno_aln.write(\n",
    "    \"introns/3-annotated.json\"\n",
    ")"
   ]
  },
  {
   "cell_type": "code",
   "execution_count": 5,
   "metadata": {},
   "outputs": [],
   "source": [
    "s = load_aligned_seqs(\"introns/3-annotated.json\")"
   ]
  },
  {
   "cell_type": "code",
   "execution_count": 6,
   "metadata": {},
   "outputs": [],
   "source": [
    "le_sorted = intron_3.sort_values(by=\"pos\")"
   ]
  },
  {
   "cell_type": "code",
   "execution_count": 7,
   "metadata": {},
   "outputs": [],
   "source": [
    "# create a cogent3 Drawable\n",
    "draw = Drawable(\n",
    "    xtitle=\"Position\",\n",
    "    ytitle=\"delta_nabla\",\n",
    ")"
   ]
  },
  {
   "cell_type": "code",
   "execution_count": 8,
   "metadata": {},
   "outputs": [],
   "source": [
    "data = []\n",
    "last_index = 0 \n",
    "\n",
    "for index, row in le_sorted.iterrows():\n",
    "    if row['pos']-last_index > 100:\n",
    "        \n",
    "        df = pd.DataFrame(data, columns=['pos','d-conv'])\n",
    "        scatt = UnionDict(\n",
    "            type=\"scatter\",\n",
    "            x=df['pos'].values,\n",
    "            y=df['d-conv'].values,\n",
    "            mode=\"lines\",\n",
    "            name=\"δ<sub>nabla</sub>\",\n",
    "            line=dict(shape=\"spline\", smoothing=1.3, color=\"cornflowerblue\"),\n",
    "            legendgroup = 'a', showlegend=False,\n",
    "            )\n",
    "        draw.traces.extend([scatt])\n",
    "        data = []\n",
    "        data.append((row['pos'], row['d-conv']))\n",
    "        last_index = row['pos']\n",
    "    else:\n",
    "        data.append((row['pos'], row['d-conv']))\n",
    "        last_index = row['pos']\n",
    "df = pd.DataFrame(data, columns=['pos','d-conv'])\n",
    "scatt = UnionDict(\n",
    "    type=\"scatter\",\n",
    "    x=df['pos'].values,\n",
    "    y=df['d-conv'].values,\n",
    "    mode=\"lines\",\n",
    "    name=\"δ<sub>nabla</sub>\",\n",
    "    line=dict(shape=\"spline\", smoothing=1.3, color=\"cornflowerblue\"),\n",
    "    legendgroup = 'a', showlegend=False,\n",
    "    )\n",
    "draw.traces.extend([scatt])"
   ]
  },
  {
   "cell_type": "code",
   "execution_count": 9,
   "metadata": {},
   "outputs": [],
   "source": [
    "\n",
    "# get the annotations as a drawable\n",
    "annots = s.get_drawable(width=600)\n",
    "# the AnnotatedDrawable allows you to specify a simple subplot!\n",
    "draw = AnnotatedDrawable(\n",
    "    draw,\n",
    "    bottom_track=annots,\n",
    "    ytitle=\"$\\Large \\hat \\delta_\\\\nabla$\"\n",
    ")\n",
    "draw.layout.yaxis[\"domain\"] = [0.3135, 1.0]\n",
    "draw.layout[\"yaxis2\"] = {\"domain\": [0.0, 0.2985]}\n"
   ]
  },
  {
   "cell_type": "code",
   "execution_count": 14,
   "metadata": {},
   "outputs": [],
   "source": [
    "draw.layout['showlegend']=False"
   ]
  },
  {
   "cell_type": "code",
   "execution_count": 15,
   "metadata": {},
   "outputs": [],
   "source": [
    "draw.write(\"/Users/katherine/repos/Thesis-Draft-1-KC/figures/plots/rodent/dconv-intron3.jpg\")\n",
    "draw.write(\"/Users/katherine/repos/Thesis-Draft-1-KC/figures/plots/rodent/dconv-intron3.pdf\")"
   ]
  },
  {
   "cell_type": "code",
   "execution_count": null,
   "metadata": {},
   "outputs": [],
   "source": []
  }
 ],
 "metadata": {
  "kernelspec": {
   "display_name": "Python 3",
   "language": "python",
   "name": "python3"
  },
  "language_info": {
   "codemirror_mode": {
    "name": "ipython",
    "version": 3
   },
   "file_extension": ".py",
   "mimetype": "text/x-python",
   "name": "python",
   "nbconvert_exporter": "python",
   "pygments_lexer": "ipython3",
   "version": "3.8.5"
  }
 },
 "nbformat": 4,
 "nbformat_minor": 4
}
